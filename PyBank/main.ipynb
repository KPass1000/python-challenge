{
 "cells": [
  {
   "cell_type": "code",
   "execution_count": 26,
   "id": "6eadc459",
   "metadata": {},
   "outputs": [
    {
     "name": "stdout",
     "output_type": "stream",
     "text": [
      "Total number of months: 86\n"
     ]
    }
   ],
   "source": [
    "import csv\n",
    "\n",
    "with open ('budget_data.csv', 'r') as csvfile:\n",
    "    csvreader = csv.reader(csvfile)\n",
    "    next(csvreader)\n",
    "    num_months = sum(1 for row in csvreader)\n",
    "print (\"Total number of months:\", num_months)"
   ]
  },
  {
   "cell_type": "code",
   "execution_count": 27,
   "id": "a5138f02",
   "metadata": {},
   "outputs": [
    {
     "name": "stdout",
     "output_type": "stream",
     "text": [
      "Total Profit/Loss: $38382578\n"
     ]
    }
   ],
   "source": [
    "import csv\n",
    "\n",
    "with open('budget_data.csv', 'r') as csvfile:\n",
    "    budget_data = csv.reader(csvfile)\n",
    "    next(budget_data)\n",
    "    total_profit_loss = 0\n",
    "    for row in budget_data:\n",
    "        total_profit_loss += int(row[1])\n",
    "    \n",
    "    print(f\"Total Profit/Loss: ${total_profit_loss}\")\n",
    "    \n",
    "          "
   ]
  },
  {
   "cell_type": "code",
   "execution_count": 29,
   "id": "91912161",
   "metadata": {},
   "outputs": [
    {
     "name": "stdout",
     "output_type": "stream",
     "text": [
      "-2315.1176470588234\n"
     ]
    }
   ],
   "source": [
    "import csv\n",
    "\n",
    "with open('budget_data.csv', 'r') as csvfile:\n",
    "    budget_data = csv.reader(csvfile)\n",
    "    next(budget_data)\n",
    "    values = [int(row[1])for row in budget_data]\n",
    "    \n",
    "differences = [values[i+1] - values[i] for i in range(len(values)-1)]\n",
    "average_change = sum(differences) / len(differences)\n",
    "\n",
    "print (average_change)\n",
    "    \n",
    "    "
   ]
  },
  {
   "cell_type": "code",
   "execution_count": 41,
   "id": "a5910ff6",
   "metadata": {},
   "outputs": [
    {
     "ename": "NameError",
     "evalue": "name 'reader' is not defined",
     "output_type": "error",
     "traceback": [
      "\u001b[0;31m---------------------------------------------------------------------------\u001b[0m",
      "\u001b[0;31mNameError\u001b[0m                                 Traceback (most recent call last)",
      "\u001b[0;32m/var/folders/hb/7kr4rl551slcwd0kdwhgg9040000gn/T/ipykernel_2968/3830743285.py\u001b[0m in \u001b[0;36m<module>\u001b[0;34m\u001b[0m\n\u001b[1;32m     15\u001b[0m     \u001b[0;32mif\u001b[0m \u001b[0mincrease\u001b[0m \u001b[0;34m>\u001b[0m \u001b[0mmax_increase\u001b[0m\u001b[0;34m:\u001b[0m\u001b[0;34m\u001b[0m\u001b[0;34m\u001b[0m\u001b[0m\n\u001b[1;32m     16\u001b[0m         \u001b[0mmax_increase\u001b[0m \u001b[0;34m=\u001b[0m \u001b[0mincrease\u001b[0m\u001b[0;34m\u001b[0m\u001b[0;34m\u001b[0m\u001b[0m\n\u001b[0;32m---> 17\u001b[0;31m         \u001b[0mmax_increase_month\u001b[0m \u001b[0;34m=\u001b[0m \u001b[0;34mf\"{i+1}: {reader[i+1][0]}\"\u001b[0m\u001b[0;34m\u001b[0m\u001b[0;34m\u001b[0m\u001b[0m\n\u001b[0m\u001b[1;32m     18\u001b[0m \u001b[0;34m\u001b[0m\u001b[0m\n\u001b[1;32m     19\u001b[0m \u001b[0mprint\u001b[0m \u001b[0;34m(\u001b[0m\u001b[0;34mf\"Greatest Increasse in Profits: {max_increase_month} (${max_increase})\"\u001b[0m\u001b[0;34m)\u001b[0m\u001b[0;34m\u001b[0m\u001b[0;34m\u001b[0m\u001b[0m\n",
      "\u001b[0;31mNameError\u001b[0m: name 'reader' is not defined"
     ]
    }
   ],
   "source": [
    "import csv\n",
    "\n",
    "with open('budget_data.csv', 'r') as csvfile:\n",
    "    budget_data = csv.reader(csvfile)\n",
    "    next(budget_data)\n",
    "    budget_data = list(budget_data)\n",
    "    \n",
    "    \n",
    "max_increase = 0\n",
    "max_increase_month = \"\"\n",
    "\n",
    "\n",
    "for i in range(1, len(budget_data)):\n",
    "    increase = int(budget_data[i][1]) - int(budget_data[i-1][1])\n",
    "    if increase > max_increase:\n",
    "        max_increase = increase\n",
    "        max_increase_month = f\"{i+1}: {reader[i+1][0]}\"\n",
    "        \n",
    "print (f\"Greatest Increasse in Profits: {max_increase_month} (${max_increase})\")"
   ]
  },
  {
   "cell_type": "code",
   "execution_count": null,
   "id": "5b16d3d7",
   "metadata": {},
   "outputs": [],
   "source": []
  }
 ],
 "metadata": {
  "kernelspec": {
   "display_name": "Python 3 (ipykernel)",
   "language": "python",
   "name": "python3"
  },
  "language_info": {
   "codemirror_mode": {
    "name": "ipython",
    "version": 3
   },
   "file_extension": ".py",
   "mimetype": "text/x-python",
   "name": "python",
   "nbconvert_exporter": "python",
   "pygments_lexer": "ipython3",
   "version": "3.9.13"
  }
 },
 "nbformat": 4,
 "nbformat_minor": 5
}
