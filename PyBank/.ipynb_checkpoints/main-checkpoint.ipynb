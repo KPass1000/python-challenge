{
 "cells": [
  {
   "cell_type": "code",
   "execution_count": 43,
   "id": "6eadc459",
   "metadata": {},
   "outputs": [
    {
     "name": "stdout",
     "output_type": "stream",
     "text": [
      "Total number of months: 86\n"
     ]
    }
   ],
   "source": [
    "import csv\n",
    "\n",
    "with open ('budget_data.csv', 'r') as csvfile:\n",
    "    csvreader = csv.reader(csvfile)\n",
    "    next(csvreader)\n",
    "    num_months = sum(1 for row in csvreader)\n",
    "print (\"Total number of months:\", num_months)"
   ]
  },
  {
   "cell_type": "code",
   "execution_count": 44,
   "id": "a5138f02",
   "metadata": {},
   "outputs": [
    {
     "name": "stdout",
     "output_type": "stream",
     "text": [
      "Total Profit/Loss: $38382578\n"
     ]
    }
   ],
   "source": [
    "import csv\n",
    "\n",
    "with open('budget_data.csv', 'r') as csvfile:\n",
    "    budget_data = csv.reader(csvfile)\n",
    "    next(budget_data)\n",
    "    total_profit_loss = 0\n",
    "    for row in budget_data:\n",
    "        total_profit_loss += int(row[1])\n",
    "    \n",
    "    print(f\"Total Profit/Loss: ${total_profit_loss}\")\n",
    "    \n",
    "          "
   ]
  },
  {
   "cell_type": "code",
   "execution_count": 45,
   "id": "0c78cff7",
   "metadata": {},
   "outputs": [
    {
     "name": "stdout",
     "output_type": "stream",
     "text": [
      "-2315.1176470588234\n"
     ]
    }
   ],
   "source": [
    "import csv\n",
    "\n",
    "with open('budget_data.csv', 'r') as csvfile:\n",
    "    budget_data = csv.reader(csvfile)\n",
    "    next(budget_data)\n",
    "    values = [int(row[1])for row in budget_data]\n",
    "    \n",
    "differences = [values[i+1] - values[i] for i in range(len(values)-1)]\n",
    "average_change = sum(differences) / len(differences)\n",
    "\n",
    "print (average_change)\n",
    "    \n",
    "    "
   ]
  },
  {
   "cell_type": "code",
   "execution_count": 46,
   "id": "8f2a0239",
   "metadata": {},
   "outputs": [
    {
     "name": "stdout",
     "output_type": "stream",
     "text": [
      "Greatest Increasse in Profits: Feb-2012:1926159 ($1926159)\n"
     ]
    }
   ],
   "source": [
    "import csv\n",
    "\n",
    "with open('budget_data.csv', 'r') as csvfile:\n",
    "    budget_data = csv.reader(csvfile)\n",
    "    next(budget_data)\n",
    "    budget_data = list(budget_data)\n",
    "    \n",
    "    \n",
    "max_increase = 0\n",
    "max_increase_month = \"\"\n",
    "\n",
    "\n",
    "for i in range(1, len(budget_data)):\n",
    "    increase = int(budget_data[i][1]) - int(budget_data[i-1][1])\n",
    "    if increase > max_increase:\n",
    "        max_increase = increase\n",
    "        max_increase_month = f\"{budget_data[i][0]}:{max_increase}\"\n",
    "        \n",
    "print (f\"Greatest Increasse in Profits: {max_increase_month} (${max_increase})\")"
   ]
  },
  {
   "cell_type": "code",
   "execution_count": null,
   "id": "a8222d01",
   "metadata": {},
   "outputs": [],
   "source": []
  }
 ],
 "metadata": {
  "kernelspec": {
   "display_name": "Python 3 (ipykernel)",
   "language": "python",
   "name": "python3"
  },
  "language_info": {
   "codemirror_mode": {
    "name": "ipython",
    "version": 3
   },
   "file_extension": ".py",
   "mimetype": "text/x-python",
   "name": "python",
   "nbconvert_exporter": "python",
   "pygments_lexer": "ipython3",
   "version": "3.9.13"
  }
 },
 "nbformat": 4,
 "nbformat_minor": 5
}
