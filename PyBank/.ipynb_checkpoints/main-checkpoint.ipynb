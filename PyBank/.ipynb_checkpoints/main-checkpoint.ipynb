{
 "cells": [
  {
   "cell_type": "code",
   "execution_count": 6,
   "id": "6eadc459",
   "metadata": {},
   "outputs": [
    {
     "name": "stdout",
     "output_type": "stream",
     "text": [
      "Total number of months: 86\n"
     ]
    }
   ],
   "source": [
    "import csv\n",
    "\n",
    "with open ('budget_data.csv', 'r') as csvfile:\n",
    "    csvreader = csv.reader(csvfile)\n",
    "    next(csvreader)\n",
    "    num_months = sum(1 for row in csvreader)\n",
    "print (\"Total number of months:\", num_months)"
   ]
  },
  {
   "cell_type": "code",
   "execution_count": 14,
   "id": "a5138f02",
   "metadata": {},
   "outputs": [
    {
     "name": "stdout",
     "output_type": "stream",
     "text": [
      "Total Profit/Loss: $38382578\n"
     ]
    }
   ],
   "source": [
    "import csv\n",
    "\n",
    "with open('budget_data.csv', 'r') as csvfile:\n",
    "    budget_data = csv.reader(csvfile)\n",
    "    next(budget_data)\n",
    "    \n",
    "    total_profit_loss = 0\n",
    "    for row in budget_data:\n",
    "        total_profit_loss += int(row[1])\n",
    "    \n",
    "    print(f\"Total Profit/Loss: ${total_profit_loss}\")\n",
    "    \n",
    "          "
   ]
  },
  {
   "cell_type": "code",
   "execution_count": null,
   "id": "5ef8e5aa",
   "metadata": {},
   "outputs": [],
   "source": []
  }
 ],
 "metadata": {
  "kernelspec": {
   "display_name": "Python 3 (ipykernel)",
   "language": "python",
   "name": "python3"
  },
  "language_info": {
   "codemirror_mode": {
    "name": "ipython",
    "version": 3
   },
   "file_extension": ".py",
   "mimetype": "text/x-python",
   "name": "python",
   "nbconvert_exporter": "python",
   "pygments_lexer": "ipython3",
   "version": "3.9.13"
  }
 },
 "nbformat": 4,
 "nbformat_minor": 5
}
