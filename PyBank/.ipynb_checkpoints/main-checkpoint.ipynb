{
 "cells": [
  {
   "cell_type": "code",
   "execution_count": 10,
   "id": "6eadc459",
   "metadata": {},
   "outputs": [
    {
     "name": "stdout",
     "output_type": "stream",
     "text": [
      "Total number of months: 86\n"
     ]
    }
   ],
   "source": [
    "import csv\n",
    "\n",
    "with open ('budget_data.csv', 'r') as csvfile:\n",
    "    csvreader = csv.reader(csvfile)\n",
    "    next(csvreader)\n",
    "    num_months = sum(1 for row in csvreader)\n",
    "print (\"Total number of months:\", num_months)"
   ]
  },
  {
   "cell_type": "code",
   "execution_count": 11,
   "id": "a5138f02",
   "metadata": {},
   "outputs": [
    {
     "name": "stdout",
     "output_type": "stream",
     "text": [
      "Total Profit/Loss: $38382578\n"
     ]
    }
   ],
   "source": [
    "import csv\n",
    "\n",
    "with open('budget_data.csv', 'r') as csvfile:\n",
    "    budget_data = csv.reader(csvfile)\n",
    "    next(budget_data)\n",
    "    total_profit_loss = 0\n",
    "    for row in budget_data:\n",
    "        total_profit_loss += int(row[1])\n",
    "    \n",
    "    print(f\"Total Profit/Loss: ${total_profit_loss}\")\n",
    "    \n",
    "          "
   ]
  },
  {
   "cell_type": "code",
   "execution_count": 12,
   "id": "0733cae7",
   "metadata": {},
   "outputs": [
    {
     "name": "stdout",
     "output_type": "stream",
     "text": [
      "Average Change: $-2315.12\n"
     ]
    }
   ],
   "source": [
    "import csv\n",
    "\n",
    "with open('budget_data.csv', 'r') as csvfile:\n",
    "    budget_data = csv.reader(csvfile)\n",
    "    next(budget_data)\n",
    "    values = [int(row[1])for row in budget_data]\n",
    "    \n",
    "differences = [values[i+1] - values[i] for i in range(len(values)-1)]\n",
    "average_change = sum(differences) / len(differences)\n",
    "\n",
    "print (f\"Average Change: ${round(average_change, 2)}\")\n",
    "    \n",
    "    "
   ]
  },
  {
   "cell_type": "code",
   "execution_count": 13,
   "id": "c85e4a83",
   "metadata": {},
   "outputs": [
    {
     "name": "stdout",
     "output_type": "stream",
     "text": [
      "Greatest Increasse in Profits: Feb-2012:1926159 ($1926159)\n"
     ]
    }
   ],
   "source": [
    "import csv\n",
    "\n",
    "with open('budget_data.csv', 'r') as csvfile:\n",
    "    budget_data = csv.reader(csvfile)\n",
    "    next(budget_data)\n",
    "    budget_data = list(budget_data)\n",
    "    \n",
    "    \n",
    "max_increase = 0\n",
    "max_increase_month = \"\"\n",
    "\n",
    "\n",
    "for i in range(1, len(budget_data)):\n",
    "    increase = int(budget_data[i][1]) - int(budget_data[i-1][1])\n",
    "    if increase > max_increase:\n",
    "        max_increase = increase\n",
    "        max_increase_month = f\"{budget_data[i][0]}:{max_increase}\"\n",
    "        \n",
    "print (f\"Greatest Increasse in Profits: {max_increase_month} (${max_increase})\")"
   ]
  },
  {
   "cell_type": "code",
   "execution_count": 14,
   "id": "d01ee41e",
   "metadata": {},
   "outputs": [
    {
     "name": "stdout",
     "output_type": "stream",
     "text": [
      " Greatest Decrease in Profits: Sep-2013:-2196167 ($-2196167)\n"
     ]
    }
   ],
   "source": [
    "import csv\n",
    "\n",
    "with open('budget_data.csv', 'r') as csvfile:\n",
    "    budget_data = csv.reader(csvfile)\n",
    "    next(budget_data)\n",
    "    budget_data = list(budget_data)\n",
    "    \n",
    "max_decrease = 0\n",
    "max_decrease_month = \"\"\n",
    "\n",
    "for i in range(1, len(budget_data)):\n",
    "    decrease = int(budget_data[i][1]) - int (budget_data[i-1][1])\n",
    "    if decrease < max_decrease:\n",
    "        max_decrease = decrease\n",
    "        max_decrease_month = f\"{budget_data[i][0]}:{max_decrease}\"\n",
    "\n",
    "print (f\" Greatest Decrease in Profits: {max_decrease_month} (${max_decrease})\")"
   ]
  },
  {
   "cell_type": "code",
   "execution_count": 15,
   "id": "e13be3f6",
   "metadata": {},
   "outputs": [
    {
     "name": "stdout",
     "output_type": "stream",
     "text": [
      "Financial Analysis\n",
      "-----------------------------\n",
      "Total Months: 86\n",
      " Total: $38382578\n",
      " Average Change: $-2315.12\n",
      " Greatest Increase in Profits: Feb-2012:1926159 ($1926159)\n",
      " Greatest Decrease in Profits: Sep-2013:-2196167 ($-2196167)\n"
     ]
    }
   ],
   "source": [
    "print (\"Financial Analysis\")\n",
    "\n",
    "print (\"-----------------------------\")\n",
    "\n",
    "print (f\"Total Months: {num_months}\")\n",
    "\n",
    "print (f\" Total: ${total_profit_loss}\")\n",
    "\n",
    "print (f\" Average Change: ${round(average_change, 2)}\")\n",
    "\n",
    "print (f\" Greatest Increase in Profits: {max_increase_month} (${max_increase})\")\n",
    "\n",
    "print (f\" Greatest Decrease in Profits: {max_decrease_month} (${max_decrease})\")"
   ]
  },
  {
   "cell_type": "code",
   "execution_count": 16,
   "id": "1ebbb48f",
   "metadata": {},
   "outputs": [],
   "source": [
    "#Export text file with the results\n",
    "\n",
    "with open (\"financial_analysis.txt\", \"w\") as textfile:\n",
    "    textfile.write(\"Financial Analysis/n\")\n",
    "    textfile.write (\"-----------------------------\\n\")\n",
    "    textfile.write(f\"Total Months: {num_months}\\n\")\n",
    "    textfile.write(f\"Average Change: ${average_change}\\n\")\n",
    "    textfile.write (f\"Greatest Increase in Profits: {max_increase_month} (${max_increase})\\n\")\n",
    "    textfile.write (f\"Greatest Decrease in Profits: {max_decrease_month} (${max_decrease})\\n\")\n",
    "    "
   ]
  },
  {
   "cell_type": "code",
   "execution_count": null,
   "id": "7decf747",
   "metadata": {},
   "outputs": [],
   "source": []
  }
 ],
 "metadata": {
  "kernelspec": {
   "display_name": "Python 3 (ipykernel)",
   "language": "python",
   "name": "python3"
  },
  "language_info": {
   "codemirror_mode": {
    "name": "ipython",
    "version": 3
   },
   "file_extension": ".py",
   "mimetype": "text/x-python",
   "name": "python",
   "nbconvert_exporter": "python",
   "pygments_lexer": "ipython3",
   "version": "3.9.13"
  }
 },
 "nbformat": 4,
 "nbformat_minor": 5
}
